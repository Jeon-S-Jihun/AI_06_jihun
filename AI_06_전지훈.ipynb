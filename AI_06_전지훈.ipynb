{
  "nbformat": 4,
  "nbformat_minor": 0,
  "metadata": {
    "colab": {
      "name": "Untitled0.ipynb",
      "provenance": []
    },
    "kernelspec": {
      "name": "python3",
      "display_name": "Python 3"
    },
    "language_info": {
      "name": "python"
    }
  },
  "cells": [
    {
      "cell_type": "code",
      "metadata": {
        "colab": {
          "resources": {
            "http://localhost:8080/nbextensions/google.colab/files.js": {
              "data": "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",
              "ok": true,
              "headers": [
                [
                  "content-type",
                  "application/javascript"
                ]
              ],
              "status": 200,
              "status_text": ""
            }
          },
          "base_uri": "https://localhost:8080/",
          "height": 41
        },
        "id": "xgilo6rqAitr",
        "outputId": "033b3172-d021-4ccb-a49c-807a48fc4053"
      },
      "source": [
        "from google.colab import files\n",
        "uploaded = files.upload()"
      ],
      "execution_count": 191,
      "outputs": [
        {
          "output_type": "display_data",
          "data": {
            "text/html": [
              "\n",
              "     <input type=\"file\" id=\"files-03eb04b2-42eb-4928-bd17-41f41d4a08c5\" name=\"files[]\" multiple disabled\n",
              "        style=\"border:none\" />\n",
              "     <output id=\"result-03eb04b2-42eb-4928-bd17-41f41d4a08c5\">\n",
              "      Upload widget is only available when the cell has been executed in the\n",
              "      current browser session. Please rerun this cell to enable.\n",
              "      </output>\n",
              "      <script src=\"/nbextensions/google.colab/files.js\"></script> "
            ],
            "text/plain": [
              "<IPython.core.display.HTML object>"
            ]
          },
          "metadata": {
            "tags": []
          }
        }
      ]
    },
    {
      "cell_type": "code",
      "metadata": {
        "colab": {
          "base_uri": "https://localhost:8080/",
          "height": 288
        },
        "id": "_R3HQDbzAw2K",
        "outputId": "165ce198-9bef-4eaa-a781-61ac36a567a9"
      },
      "source": [
        "import pandas as pd\n",
        "df = pd.read_csv('vgames2.csv', index_col='Name').drop('Unnamed: 0', axis = 1)\n",
        "df.head()"
      ],
      "execution_count": 192,
      "outputs": [
        {
          "output_type": "execute_result",
          "data": {
            "text/html": [
              "<div>\n",
              "<style scoped>\n",
              "    .dataframe tbody tr th:only-of-type {\n",
              "        vertical-align: middle;\n",
              "    }\n",
              "\n",
              "    .dataframe tbody tr th {\n",
              "        vertical-align: top;\n",
              "    }\n",
              "\n",
              "    .dataframe thead th {\n",
              "        text-align: right;\n",
              "    }\n",
              "</style>\n",
              "<table border=\"1\" class=\"dataframe\">\n",
              "  <thead>\n",
              "    <tr style=\"text-align: right;\">\n",
              "      <th></th>\n",
              "      <th>Platform</th>\n",
              "      <th>Year</th>\n",
              "      <th>Genre</th>\n",
              "      <th>Publisher</th>\n",
              "      <th>NA_Sales</th>\n",
              "      <th>EU_Sales</th>\n",
              "      <th>JP_Sales</th>\n",
              "      <th>Other_Sales</th>\n",
              "    </tr>\n",
              "    <tr>\n",
              "      <th>Name</th>\n",
              "      <th></th>\n",
              "      <th></th>\n",
              "      <th></th>\n",
              "      <th></th>\n",
              "      <th></th>\n",
              "      <th></th>\n",
              "      <th></th>\n",
              "      <th></th>\n",
              "    </tr>\n",
              "  </thead>\n",
              "  <tbody>\n",
              "    <tr>\n",
              "      <th>Candace Kane's Candy Factory</th>\n",
              "      <td>DS</td>\n",
              "      <td>2008.0</td>\n",
              "      <td>Action</td>\n",
              "      <td>Destineer</td>\n",
              "      <td>0.04</td>\n",
              "      <td>0</td>\n",
              "      <td>0</td>\n",
              "      <td>0</td>\n",
              "    </tr>\n",
              "    <tr>\n",
              "      <th>The Munchables</th>\n",
              "      <td>Wii</td>\n",
              "      <td>2009.0</td>\n",
              "      <td>Action</td>\n",
              "      <td>Namco Bandai Games</td>\n",
              "      <td>0.17</td>\n",
              "      <td>0</td>\n",
              "      <td>0</td>\n",
              "      <td>0.01</td>\n",
              "    </tr>\n",
              "    <tr>\n",
              "      <th>Otome wa Oanesama Boku ni Koi Shiteru Portable</th>\n",
              "      <td>PSP</td>\n",
              "      <td>2010.0</td>\n",
              "      <td>Adventure</td>\n",
              "      <td>Alchemist</td>\n",
              "      <td>0</td>\n",
              "      <td>0</td>\n",
              "      <td>0.02</td>\n",
              "      <td>0</td>\n",
              "    </tr>\n",
              "    <tr>\n",
              "      <th>Deal or No Deal: Special Edition</th>\n",
              "      <td>DS</td>\n",
              "      <td>2010.0</td>\n",
              "      <td>Misc</td>\n",
              "      <td>Zoo Games</td>\n",
              "      <td>0.04</td>\n",
              "      <td>0</td>\n",
              "      <td>0</td>\n",
              "      <td>0</td>\n",
              "    </tr>\n",
              "    <tr>\n",
              "      <th>Ben 10 Ultimate Alien: Cosmic Destruction</th>\n",
              "      <td>PS3</td>\n",
              "      <td>2010.0</td>\n",
              "      <td>Platform</td>\n",
              "      <td>D3Publisher</td>\n",
              "      <td>0.12</td>\n",
              "      <td>0.09</td>\n",
              "      <td>0</td>\n",
              "      <td>0.04</td>\n",
              "    </tr>\n",
              "  </tbody>\n",
              "</table>\n",
              "</div>"
            ],
            "text/plain": [
              "                                               Platform  ...  Other_Sales\n",
              "Name                                                     ...             \n",
              "Candace Kane's Candy Factory                         DS  ...            0\n",
              "The Munchables                                      Wii  ...         0.01\n",
              "Otome wa Oanesama Boku ni Koi Shiteru Portable      PSP  ...            0\n",
              "Deal or No Deal: Special Edition                     DS  ...            0\n",
              "Ben 10 Ultimate Alien: Cosmic Destruction           PS3  ...         0.04\n",
              "\n",
              "[5 rows x 8 columns]"
            ]
          },
          "metadata": {
            "tags": []
          },
          "execution_count": 192
        }
      ]
    },
    {
      "cell_type": "code",
      "metadata": {
        "colab": {
          "base_uri": "https://localhost:8080/"
        },
        "id": "Q-FCtL-MJ6lB",
        "outputId": "1a8f8ea0-5f5f-4870-c92f-1ea159d46806"
      },
      "source": [
        "df.isnull().sum(),df.dtypes, df.shape"
      ],
      "execution_count": 193,
      "outputs": [
        {
          "output_type": "execute_result",
          "data": {
            "text/plain": [
              "(Platform         0\n",
              " Year           271\n",
              " Genre           50\n",
              " Publisher       58\n",
              " NA_Sales         0\n",
              " EU_Sales         0\n",
              " JP_Sales         0\n",
              " Other_Sales      0\n",
              " dtype: int64, Platform        object\n",
              " Year           float64\n",
              " Genre           object\n",
              " Publisher       object\n",
              " NA_Sales        object\n",
              " EU_Sales        object\n",
              " JP_Sales        object\n",
              " Other_Sales     object\n",
              " dtype: object, (16598, 8))"
            ]
          },
          "metadata": {
            "tags": []
          },
          "execution_count": 193
        }
      ]
    },
    {
      "cell_type": "markdown",
      "metadata": {
        "id": "ssmQ0SYpLS5p"
      },
      "source": [
        "-Year's NA values : 0 \n",
        "\n",
        "> **연도별 구분할 떄 빠른순서로 지정되지 않게 새로운 그룹으로 분류 해야하지만 float 형식 유지하기 위해서 0으로 지정 : 추후에 연도별 분류시에 0인 항목들 제외하는 작업 필요**\n",
        "\n",
        "-Genre's NA value : others\n",
        "\n",
        "-Publisher's NA value : developer\n",
        "\n",
        "-Coverting **_Sales' type to float\n"
      ]
    },
    {
      "cell_type": "code",
      "metadata": {
        "colab": {
          "base_uri": "https://localhost:8080/"
        },
        "id": "QZH-tOBOKDyv",
        "outputId": "3d381547-0185-42f2-81e5-b10e6b8150f6"
      },
      "source": [
        "df['Year'].fillna(0, inplace=True)\n",
        "df['Publisher'].fillna('developer', inplace=True)\n",
        "df['Genre'].fillna('others', inplace=True)\n",
        "df.shape\n",
        "df.isnull().sum()"
      ],
      "execution_count": 194,
      "outputs": [
        {
          "output_type": "execute_result",
          "data": {
            "text/plain": [
              "Platform       0\n",
              "Year           0\n",
              "Genre          0\n",
              "Publisher      0\n",
              "NA_Sales       0\n",
              "EU_Sales       0\n",
              "JP_Sales       0\n",
              "Other_Sales    0\n",
              "dtype: int64"
            ]
          },
          "metadata": {
            "tags": []
          },
          "execution_count": 194
        }
      ]
    },
    {
      "cell_type": "code",
      "metadata": {
        "colab": {
          "base_uri": "https://localhost:8080/"
        },
        "id": "_yENZPACMzc3",
        "outputId": "eae2d90d-bf51-4fdc-bfcc-a7b0b2ed5fe0"
      },
      "source": [
        "def countnumeric(x):\n",
        "  try:\n",
        "    float(x)\n",
        "    return True\n",
        "  except ValueError:\n",
        "    return False\n",
        "  return\n",
        "\n",
        "countNA = df['NA_Sales'].apply(countnumeric).sum()\n",
        "countNA\n",
        "#16598 - 16398 = 200"
      ],
      "execution_count": 195,
      "outputs": [
        {
          "output_type": "execute_result",
          "data": {
            "text/plain": [
              "16398"
            ]
          },
          "metadata": {
            "tags": []
          },
          "execution_count": 195
        }
      ]
    },
    {
      "cell_type": "code",
      "metadata": {
        "colab": {
          "base_uri": "https://localhost:8080/"
        },
        "id": "4bqYZSUEYLZT",
        "outputId": "82471aff-932c-42b6-871b-30775a997977"
      },
      "source": [
        "def removekm(k):\n",
        "  try:\n",
        "    a = float(k.replace('M',''))\n",
        "    return a\n",
        "  except ValueError:\n",
        "    b = float(k.replace('K',''))*0.001\n",
        "    return b\n",
        "  return\n",
        "df['NA_Sales'] = df['NA_Sales'].apply(removekm)\n",
        "df['NA_Sales'].apply(countnumeric).sum()\n"
      ],
      "execution_count": 196,
      "outputs": [
        {
          "output_type": "execute_result",
          "data": {
            "text/plain": [
              "16598"
            ]
          },
          "metadata": {
            "tags": []
          },
          "execution_count": 196
        }
      ]
    },
    {
      "cell_type": "code",
      "metadata": {
        "colab": {
          "base_uri": "https://localhost:8080/"
        },
        "id": "s43uN3yB2y8K",
        "outputId": "ab733029-41bd-485e-92be-35b9d4e106da"
      },
      "source": [
        "df['NA_Sales']"
      ],
      "execution_count": 197,
      "outputs": [
        {
          "output_type": "execute_result",
          "data": {
            "text/plain": [
              "Name\n",
              "Candace Kane's Candy Factory                      0.04\n",
              "The Munchables                                    0.17\n",
              "Otome wa Oanesama Boku ni Koi Shiteru Portable    0.00\n",
              "Deal or No Deal: Special Edition                  0.04\n",
              "Ben 10 Ultimate Alien: Cosmic Destruction         0.12\n",
              "                                                  ... \n",
              "Ice Age 2: The Meltdown                           0.15\n",
              "Rainbow Islands: Revolution                       0.01\n",
              "NBA 2K16                                          0.44\n",
              "Toukiden: The Age of Demons                       0.05\n",
              "The King of Fighters '95                          0.00\n",
              "Name: NA_Sales, Length: 16598, dtype: float64"
            ]
          },
          "metadata": {
            "tags": []
          },
          "execution_count": 197
        }
      ]
    },
    {
      "cell_type": "code",
      "metadata": {
        "colab": {
          "base_uri": "https://localhost:8080/"
        },
        "id": "BkMeYDmwPbqu",
        "outputId": "6e62c848-e464-4c7c-cedd-b3d63a115a9e"
      },
      "source": [
        "df['EU_Sales'] = df['EU_Sales'].apply(removekm)\n",
        "print(df['EU_Sales'].apply(countnumeric).sum())\n",
        "\n",
        "df['JP_Sales'] = df['JP_Sales'].apply(removekm)\n",
        "print(df['JP_Sales'].apply(countnumeric).sum())\n",
        "\n",
        "df['Other_Sales'] = df['Other_Sales'].apply(removekm)\n",
        "print(df['Other_Sales'].apply(countnumeric).sum())"
      ],
      "execution_count": 198,
      "outputs": [
        {
          "output_type": "stream",
          "text": [
            "16598\n",
            "16598\n",
            "16598\n"
          ],
          "name": "stdout"
        }
      ]
    },
    {
      "cell_type": "code",
      "metadata": {
        "colab": {
          "base_uri": "https://localhost:8080/"
        },
        "id": "XOTOSWGSQNXH",
        "outputId": "c7cfa66e-34a7-4ef6-9899-e7cc84710f5a"
      },
      "source": [
        "df.dtypes"
      ],
      "execution_count": 199,
      "outputs": [
        {
          "output_type": "execute_result",
          "data": {
            "text/plain": [
              "Platform        object\n",
              "Year           float64\n",
              "Genre           object\n",
              "Publisher       object\n",
              "NA_Sales       float64\n",
              "EU_Sales       float64\n",
              "JP_Sales       float64\n",
              "Other_Sales    float64\n",
              "dtype: object"
            ]
          },
          "metadata": {
            "tags": []
          },
          "execution_count": 199
        }
      ]
    },
    {
      "cell_type": "code",
      "metadata": {
        "colab": {
          "base_uri": "https://localhost:8080/"
        },
        "id": "xRpPlOhtAQyh",
        "outputId": "cf850f71-64c8-427a-90ea-e011497165bc"
      },
      "source": [
        "df['Total_Sales'] = df['NA_Sales']+df['EU_Sales']+df['JP_Sales']+df['Other_Sales']\n",
        "df['Total_Sales']"
      ],
      "execution_count": 200,
      "outputs": [
        {
          "output_type": "execute_result",
          "data": {
            "text/plain": [
              "Name\n",
              "Candace Kane's Candy Factory                      0.04\n",
              "The Munchables                                    0.18\n",
              "Otome wa Oanesama Boku ni Koi Shiteru Portable    0.02\n",
              "Deal or No Deal: Special Edition                  0.04\n",
              "Ben 10 Ultimate Alien: Cosmic Destruction         0.25\n",
              "                                                  ... \n",
              "Ice Age 2: The Meltdown                           0.20\n",
              "Rainbow Islands: Revolution                       0.01\n",
              "NBA 2K16                                          0.79\n",
              "Toukiden: The Age of Demons                       0.38\n",
              "The King of Fighters '95                          0.17\n",
              "Name: Total_Sales, Length: 16598, dtype: float64"
            ]
          },
          "metadata": {
            "tags": []
          },
          "execution_count": 200
        }
      ]
    },
    {
      "cell_type": "markdown",
      "metadata": {
        "id": "Lk2XiT2e4nRn"
      },
      "source": [
        "*   1 : 지역별 선호하는 게임장르 다를까 (카이검정)\n",
        "*   2 : 연도별게임의 트렌드 존재할까\n",
        "*   3 : 출고량 높은 개임에대한 분석 및 시각화 프로세스\n",
        "\n",
        "1.지역과 게임장르의 연관성..장르의 지역별 총 판매량 계산\n",
        "\n",
        "2.연도별 게임장르..장르의 연도별 총 판매량\n",
        "\n",
        "3.촐고높은 게임 중간게임 낮은게임 분석 및 시각화\n",
        "\n",
        "\n",
        "---\n",
        "\n",
        "\n",
        "\n",
        "4.연도별 퍼블리셔와 플랫폼 선호도 조사하고, 도메인에서 어떤 퍼블리셔와 플랫폼 메인인지조사, 퍼블리셔가 주로 만드는 게임과 수익의 연관성 조사, 어떤 장르가 만들기 어려운지에 대해조사하고, 규모 작은 기업이 어떻게 수익을 내야하는지 제시 낮은 수익의 퍼블리셔중에서 높은 순으로 장르 계산해서 낮은 퍼블리셔는 어떠한 방향으로 나아가야한다~,시리즈물 시리즈별 판매량"
      ]
    },
    {
      "cell_type": "code",
      "metadata": {
        "colab": {
          "base_uri": "https://localhost:8080/"
        },
        "id": "kAW7ryedBW16",
        "outputId": "2918a297-cf73-48df-dae0-d2bd4a6831ce"
      },
      "source": [
        "df['Genre'].value_counts()"
      ],
      "execution_count": 201,
      "outputs": [
        {
          "output_type": "execute_result",
          "data": {
            "text/plain": [
              "Action          3305\n",
              "Sports          2341\n",
              "Misc            1734\n",
              "Role-Playing    1483\n",
              "Shooter         1308\n",
              "Adventure       1280\n",
              "Racing          1243\n",
              "Platform         884\n",
              "Simulation       865\n",
              "Fighting         847\n",
              "Strategy         680\n",
              "Puzzle           578\n",
              "others            50\n",
              "Name: Genre, dtype: int64"
            ]
          },
          "metadata": {
            "tags": []
          },
          "execution_count": 201
        }
      ]
    },
    {
      "cell_type": "code",
      "metadata": {
        "id": "UE7b4BeE5TyJ",
        "colab": {
          "base_uri": "https://localhost:8080/"
        },
        "outputId": "dc973735-5496-463a-d21b-c30c42bb3a38"
      },
      "source": [
        "df_q1 = df[['Genre', 'NA_Sales', 'EU_Sales','JP_Sales','Other_Sales']]\n",
        "df_q1act = df_q1['Genre'] == 'Action'\n",
        "print(df_q1[df_q1act].sum())\n",
        "\n",
        "df_q1spr = df_q1['Genre'] == 'Sports'\n",
        "print(df_q1[df_q1spr].sum())\n",
        "\n",
        "df_q1mis = df_q1['Genre'] == 'Misc'\n",
        "print(df_q1[df_q1mis].sum())\n",
        "\n",
        "df_q1rpg = df_q1['Genre'] == 'Role-Playing'\n",
        "print(df_q1[df_q1rpg].sum())\n",
        "\n",
        "df_q1sht = df_q1['Genre'] == 'Shooter'\n",
        "print(df_q1[df_q1sht].sum())\n",
        "\n",
        "df_q1adv = df_q1['Genre'] == 'Adventure'\n",
        "print(df_q1[df_q1adv].sum())\n",
        "\n",
        "df_q1rac = df_q1['Genre'] == 'Racing'\n",
        "print(df_q1[df_q1rac].sum())\n",
        "\n",
        "df_q1pf = df_q1['Genre'] == 'Platform'\n",
        "print(df_q1[df_q1pf].sum())\n",
        "\n",
        "df_q1smu = df_q1['Genre'] == 'Simulation'\n",
        "print(df_q1[df_q1smu].sum())\n",
        "\n",
        "df_q1fit = df_q1['Genre'] == 'Fighting'\n",
        "print(df_q1[df_q1fit].sum())\n",
        "\n",
        "df_q1stt = df_q1['Genre'] == 'Strategy'\n",
        "print(df_q1[df_q1stt].sum())\n",
        "\n",
        "df_q1puz = df_q1['Genre'] == 'Puzzle'\n",
        "print(df_q1[df_q1puz].sum())\n",
        "\n",
        "df_q1oth = df_q1['Genre'] == 'others'\n",
        "print(df_q1[df_q1oth].sum())\n",
        "\n",
        "def tostring(data):\n",
        "  if type(data) == float or type(data) == int:\n",
        "    return str(data)+str('M')\n",
        "  else:\n",
        "    return data\n"
      ],
      "execution_count": 220,
      "outputs": [
        {
          "output_type": "stream",
          "text": [
            "Genre          ActionActionActionActionActionActionActionActi...\n",
            "NA_Sales                                                  874.81\n",
            "EU_Sales                                                  522.16\n",
            "JP_Sales                                                   157.9\n",
            "Other_Sales                                               186.45\n",
            "dtype: object\n",
            "Genre          SportsSportsSportsSportsSportsSportsSportsSpor...\n",
            "NA_Sales                                                  680.52\n",
            "EU_Sales                                                  376.48\n",
            "JP_Sales                                                  135.37\n",
            "Other_Sales                                               134.67\n",
            "dtype: object\n",
            "Genre          MiscMiscMiscMiscMiscMiscMiscMiscMiscMiscMiscMi...\n",
            "NA_Sales                                                  408.05\n",
            "EU_Sales                                                  212.36\n",
            "JP_Sales                                                  105.27\n",
            "Other_Sales                                                74.04\n",
            "dtype: object\n",
            "Genre          Role-PlayingRole-PlayingRole-PlayingRole-Playi...\n",
            "NA_Sales                                                  319.54\n",
            "EU_Sales                                                  183.58\n",
            "JP_Sales                                                  344.95\n",
            "Other_Sales                                                56.96\n",
            "dtype: object\n",
            "Genre          ShooterShooterShooterShooterShooterShooterShoo...\n",
            "NA_Sales                                                  581.92\n",
            "EU_Sales                                                  313.05\n",
            "JP_Sales                                                   38.28\n",
            "Other_Sales                                               102.65\n",
            "dtype: object\n",
            "Genre          AdventureAdventureAdventureAdventureAdventureA...\n",
            "NA_Sales                                                  105.66\n",
            "EU_Sales                                                   64.05\n",
            "JP_Sales                                                   51.95\n",
            "Other_Sales                                                16.81\n",
            "dtype: object\n",
            "Genre          RacingRacingRacingRacingRacingRacingRacingRaci...\n",
            "NA_Sales                                                  357.19\n",
            "EU_Sales                                                   237.1\n",
            "JP_Sales                                                    56.4\n",
            "Other_Sales                                                 77.1\n",
            "dtype: object\n",
            "Genre          PlatformPlatformPlatformPlatformPlatformPlatfo...\n",
            "NA_Sales                                                  446.44\n",
            "EU_Sales                                                  201.61\n",
            "JP_Sales                                                  130.65\n",
            "Other_Sales                                                51.53\n",
            "dtype: object\n",
            "Genre          SimulationSimulationSimulationSimulationSimula...\n",
            "NA_Sales                                                  182.96\n",
            "EU_Sales                                                  113.35\n",
            "JP_Sales                                                    63.7\n",
            "Other_Sales                                                31.48\n",
            "dtype: object\n",
            "Genre          FightingFightingFightingFightingFightingFighti...\n",
            "NA_Sales                                                   223.2\n",
            "EU_Sales                                                  101.22\n",
            "JP_Sales                                                   87.34\n",
            "Other_Sales                                                36.64\n",
            "dtype: object\n",
            "Genre          StrategyStrategyStrategyStrategyStrategyStrate...\n",
            "NA_Sales                                                    68.7\n",
            "EU_Sales                                                   45.32\n",
            "JP_Sales                                                   49.46\n",
            "Other_Sales                                                11.36\n",
            "dtype: object\n",
            "Genre          PuzzlePuzzlePuzzlePuzzlePuzzlePuzzlePuzzlePuzz...\n",
            "NA_Sales                                                  123.35\n",
            "EU_Sales                                                   50.73\n",
            "JP_Sales                                                   56.87\n",
            "Other_Sales                                                12.52\n",
            "dtype: object\n",
            "Genre          othersothersothersothersothersothersothersothe...\n",
            "NA_Sales                                                   20.61\n",
            "EU_Sales                                                   13.12\n",
            "JP_Sales                                                   12.88\n",
            "Other_Sales                                                 5.54\n",
            "dtype: object\n"
          ],
          "name": "stdout"
        }
      ]
    },
    {
      "cell_type": "code",
      "metadata": {
        "colab": {
          "base_uri": "https://localhost:8080/",
          "height": 454
        },
        "id": "LYn_w1iPloGm",
        "outputId": "da88a494-7d89-4779-a4cc-2cc30c25cc1c"
      },
      "source": [
        "df_q1g = df_q1['Genre']\n",
        "df_q1n = df_q1['NA_Sales'].apply(tostring)\n",
        "df_q1e = df_q1['EU_Sales'].apply(tostring)\n",
        "df_q1j = df_q1['JP_Sales'].apply(tostring)\n",
        "df_q1o = df_q1['Other_Sales'].apply(tostring)\n",
        "\n",
        "dfq1 = pd.concat([df_q1g, df_q1n, df_q1e, df_q1j, df_q1o ], axis = 1)\n",
        "dfq1"
      ],
      "execution_count": 221,
      "outputs": [
        {
          "output_type": "execute_result",
          "data": {
            "text/html": [
              "<div>\n",
              "<style scoped>\n",
              "    .dataframe tbody tr th:only-of-type {\n",
              "        vertical-align: middle;\n",
              "    }\n",
              "\n",
              "    .dataframe tbody tr th {\n",
              "        vertical-align: top;\n",
              "    }\n",
              "\n",
              "    .dataframe thead th {\n",
              "        text-align: right;\n",
              "    }\n",
              "</style>\n",
              "<table border=\"1\" class=\"dataframe\">\n",
              "  <thead>\n",
              "    <tr style=\"text-align: right;\">\n",
              "      <th></th>\n",
              "      <th>Genre</th>\n",
              "      <th>NA_Sales</th>\n",
              "      <th>EU_Sales</th>\n",
              "      <th>JP_Sales</th>\n",
              "      <th>Other_Sales</th>\n",
              "    </tr>\n",
              "    <tr>\n",
              "      <th>Name</th>\n",
              "      <th></th>\n",
              "      <th></th>\n",
              "      <th></th>\n",
              "      <th></th>\n",
              "      <th></th>\n",
              "    </tr>\n",
              "  </thead>\n",
              "  <tbody>\n",
              "    <tr>\n",
              "      <th>Candace Kane's Candy Factory</th>\n",
              "      <td>Action</td>\n",
              "      <td>0.04M</td>\n",
              "      <td>0.0M</td>\n",
              "      <td>0.0M</td>\n",
              "      <td>0.0M</td>\n",
              "    </tr>\n",
              "    <tr>\n",
              "      <th>The Munchables</th>\n",
              "      <td>Action</td>\n",
              "      <td>0.17M</td>\n",
              "      <td>0.0M</td>\n",
              "      <td>0.0M</td>\n",
              "      <td>0.01M</td>\n",
              "    </tr>\n",
              "    <tr>\n",
              "      <th>Otome wa Oanesama Boku ni Koi Shiteru Portable</th>\n",
              "      <td>Adventure</td>\n",
              "      <td>0.0M</td>\n",
              "      <td>0.0M</td>\n",
              "      <td>0.02M</td>\n",
              "      <td>0.0M</td>\n",
              "    </tr>\n",
              "    <tr>\n",
              "      <th>Deal or No Deal: Special Edition</th>\n",
              "      <td>Misc</td>\n",
              "      <td>0.04M</td>\n",
              "      <td>0.0M</td>\n",
              "      <td>0.0M</td>\n",
              "      <td>0.0M</td>\n",
              "    </tr>\n",
              "    <tr>\n",
              "      <th>Ben 10 Ultimate Alien: Cosmic Destruction</th>\n",
              "      <td>Platform</td>\n",
              "      <td>0.12M</td>\n",
              "      <td>0.09M</td>\n",
              "      <td>0.0M</td>\n",
              "      <td>0.04M</td>\n",
              "    </tr>\n",
              "    <tr>\n",
              "      <th>...</th>\n",
              "      <td>...</td>\n",
              "      <td>...</td>\n",
              "      <td>...</td>\n",
              "      <td>...</td>\n",
              "      <td>...</td>\n",
              "    </tr>\n",
              "    <tr>\n",
              "      <th>Ice Age 2: The Meltdown</th>\n",
              "      <td>Platform</td>\n",
              "      <td>0.15M</td>\n",
              "      <td>0.04M</td>\n",
              "      <td>0.0M</td>\n",
              "      <td>0.01M</td>\n",
              "    </tr>\n",
              "    <tr>\n",
              "      <th>Rainbow Islands: Revolution</th>\n",
              "      <td>Action</td>\n",
              "      <td>0.01M</td>\n",
              "      <td>0.0M</td>\n",
              "      <td>0.0M</td>\n",
              "      <td>0.0M</td>\n",
              "    </tr>\n",
              "    <tr>\n",
              "      <th>NBA 2K16</th>\n",
              "      <td>Sports</td>\n",
              "      <td>0.44M</td>\n",
              "      <td>0.19M</td>\n",
              "      <td>0.03M</td>\n",
              "      <td>0.13M</td>\n",
              "    </tr>\n",
              "    <tr>\n",
              "      <th>Toukiden: The Age of Demons</th>\n",
              "      <td>Action</td>\n",
              "      <td>0.05M</td>\n",
              "      <td>0.05M</td>\n",
              "      <td>0.25M</td>\n",
              "      <td>0.03M</td>\n",
              "    </tr>\n",
              "    <tr>\n",
              "      <th>The King of Fighters '95</th>\n",
              "      <td>Fighting</td>\n",
              "      <td>0.0M</td>\n",
              "      <td>0.0M</td>\n",
              "      <td>0.16M</td>\n",
              "      <td>0.01M</td>\n",
              "    </tr>\n",
              "  </tbody>\n",
              "</table>\n",
              "<p>16598 rows × 5 columns</p>\n",
              "</div>"
            ],
            "text/plain": [
              "                                                    Genre  ... Other_Sales\n",
              "Name                                                       ...            \n",
              "Candace Kane's Candy Factory                       Action  ...        0.0M\n",
              "The Munchables                                     Action  ...       0.01M\n",
              "Otome wa Oanesama Boku ni Koi Shiteru Portable  Adventure  ...        0.0M\n",
              "Deal or No Deal: Special Edition                     Misc  ...        0.0M\n",
              "Ben 10 Ultimate Alien: Cosmic Destruction        Platform  ...       0.04M\n",
              "...                                                   ...  ...         ...\n",
              "Ice Age 2: The Meltdown                          Platform  ...       0.01M\n",
              "Rainbow Islands: Revolution                        Action  ...        0.0M\n",
              "NBA 2K16                                           Sports  ...       0.13M\n",
              "Toukiden: The Age of Demons                        Action  ...       0.03M\n",
              "The King of Fighters '95                         Fighting  ...       0.01M\n",
              "\n",
              "[16598 rows x 5 columns]"
            ]
          },
          "metadata": {
            "tags": []
          },
          "execution_count": 221
        }
      ]
    },
    {
      "cell_type": "code",
      "metadata": {
        "colab": {
          "base_uri": "https://localhost:8080/"
        },
        "id": "6ZZE4Jus7gik",
        "outputId": "b42f5ce3-99c3-41a7-bc8d-a8650cb4df27"
      },
      "source": [
        "dfchi1 = df[['Genre','NA_Sales']]\n",
        "dfchi2 = df[['Genre','JP_Sales']]\n",
        "dfchi3 = df[['Genre','EU_Sales']]\n",
        "dfchi4 = df[['Genre','Other_Sales']]\n",
        "\n",
        "\n",
        "from scipy import stats\n",
        "\n",
        "dfchi1_sum = dfchi1.sum(axis=1)\n",
        "dfchi1_sum\n",
        "dfchi2_sum = dfchi2.sum(axis=1)\n",
        "dfchi2_sum\n",
        "dfchi3_sum = dfchi3.sum(axis=1)\n",
        "dfchi3_sum\n",
        "dfchi4_sum = dfchi4.sum(axis=1)\n",
        "dfchi4_sum\n",
        "\n",
        "from scipy.stats import chisquare\n",
        "\n",
        "chi1 = chisquare(dfchi1_sum, axis=None)\n",
        "chi2 = chisquare(dfchi2_sum, axis=None)\n",
        "chi3 = chisquare(dfchi3_sum, axis=None)\n",
        "chi4 = chisquare(dfchi4_sum, axis=None)\n",
        "\n",
        "chi1,chi2,chi3,chi4\n",
        "#pvalue = 0 이므\n"
      ],
      "execution_count": 228,
      "outputs": [
        {
          "output_type": "execute_result",
          "data": {
            "text/plain": [
              "(Power_divergenceResult(statistic=41825.019882971574, pvalue=0.0),\n",
              " Power_divergenceResult(statistic=20412.018870970245, pvalue=3.396013689915608e-85),\n",
              " Power_divergenceResult(statistic=28902.0229583876, pvalue=0.0),\n",
              " Power_divergenceResult(statistic=12281.41782375431, pvalue=1.0))"
            ]
          },
          "metadata": {
            "tags": []
          },
          "execution_count": 228
        }
      ]
    },
    {
      "cell_type": "code",
      "metadata": {
        "colab": {
          "base_uri": "https://localhost:8080/"
        },
        "id": "veMwt-gGUFu7",
        "outputId": "79450b89-4f71-435f-ae2f-01ea9b784bec"
      },
      "source": [
        "df_q1.set_index('Genre',inplace=True)\n",
        "dfchi_sum = df_q1.sum(axis=1)\n",
        "chi = chisquare(dfchi_sum, axis=None)\n",
        "chi"
      ],
      "execution_count": 231,
      "outputs": [
        {
          "output_type": "execute_result",
          "data": {
            "text/plain": [
              "Power_divergenceResult(statistic=74725.2819157007, pvalue=0.0)"
            ]
          },
          "metadata": {
            "tags": []
          },
          "execution_count": 231
        }
      ]
    },
    {
      "cell_type": "code",
      "metadata": {
        "colab": {
          "base_uri": "https://localhost:8080/",
          "height": 454
        },
        "id": "gCWfi55x-ikg",
        "outputId": "6cf5c621-72c7-4f53-cba9-62b33c363933"
      },
      "source": [
        "#연도별 게임장르..장르의 연도별 총 판매량\n",
        "df_q2 = df[['Year','Genre', 'NA_Sales', 'EU_Sales','JP_Sales','Other_Sales']]\n",
        "import numpy as np\n",
        "import matplotlib.pyplot as plt\n",
        "\n",
        "def numeric(a):\n",
        "  if a <= 20:\n",
        "    return a+2000\n",
        "  elif a<100 and a>20 :\n",
        "    return a+1900\n",
        "  else:\n",
        "    return a\n",
        "\n",
        "df_q2 = df_q2[df.Year != 0]\n",
        "df_q2['Year'] = df_q2['Year'].astype('int').apply(numeric)\n",
        "df_q2['Year']\n",
        "df_q2 = df_q2.sort_values(by=['Year'])\n",
        "df_q2['total_sales'] = df_q2['NA_Sales']+df_q2['EU_Sales']+df_q2['JP_Sales']+df_q2['Other_Sales']\n",
        "\n",
        "df_q22 = df_q2[['Year','Genre','total_sales']]\n",
        "df_q22"
      ],
      "execution_count": 307,
      "outputs": [
        {
          "output_type": "execute_result",
          "data": {
            "text/html": [
              "<div>\n",
              "<style scoped>\n",
              "    .dataframe tbody tr th:only-of-type {\n",
              "        vertical-align: middle;\n",
              "    }\n",
              "\n",
              "    .dataframe tbody tr th {\n",
              "        vertical-align: top;\n",
              "    }\n",
              "\n",
              "    .dataframe thead th {\n",
              "        text-align: right;\n",
              "    }\n",
              "</style>\n",
              "<table border=\"1\" class=\"dataframe\">\n",
              "  <thead>\n",
              "    <tr style=\"text-align: right;\">\n",
              "      <th></th>\n",
              "      <th>Year</th>\n",
              "      <th>Genre</th>\n",
              "      <th>total_sales</th>\n",
              "    </tr>\n",
              "    <tr>\n",
              "      <th>Name</th>\n",
              "      <th></th>\n",
              "      <th></th>\n",
              "      <th></th>\n",
              "    </tr>\n",
              "  </thead>\n",
              "  <tbody>\n",
              "    <tr>\n",
              "      <th>Kaboom!</th>\n",
              "      <td>1980</td>\n",
              "      <td>Misc</td>\n",
              "      <td>1.15</td>\n",
              "    </tr>\n",
              "    <tr>\n",
              "      <th>Checkers</th>\n",
              "      <td>1980</td>\n",
              "      <td>Misc</td>\n",
              "      <td>0.23</td>\n",
              "    </tr>\n",
              "    <tr>\n",
              "      <th>Missile Command</th>\n",
              "      <td>1980</td>\n",
              "      <td>Shooter</td>\n",
              "      <td>2.76</td>\n",
              "    </tr>\n",
              "    <tr>\n",
              "      <th>Freeway</th>\n",
              "      <td>1980</td>\n",
              "      <td>Action</td>\n",
              "      <td>0.34</td>\n",
              "    </tr>\n",
              "    <tr>\n",
              "      <th>Bridge</th>\n",
              "      <td>1980</td>\n",
              "      <td>Misc</td>\n",
              "      <td>0.27</td>\n",
              "    </tr>\n",
              "    <tr>\n",
              "      <th>...</th>\n",
              "      <td>...</td>\n",
              "      <td>...</td>\n",
              "      <td>...</td>\n",
              "    </tr>\n",
              "    <tr>\n",
              "      <th>Valkyria Chronicles</th>\n",
              "      <td>2016</td>\n",
              "      <td>Role-Playing</td>\n",
              "      <td>0.17</td>\n",
              "    </tr>\n",
              "    <tr>\n",
              "      <th>Phantasy Star Online 2 Episode 4: Deluxe Package</th>\n",
              "      <td>2017</td>\n",
              "      <td>Role-Playing</td>\n",
              "      <td>0.03</td>\n",
              "    </tr>\n",
              "    <tr>\n",
              "      <th>Brothers Conflict: Precious Baby</th>\n",
              "      <td>2017</td>\n",
              "      <td>Action</td>\n",
              "      <td>0.01</td>\n",
              "    </tr>\n",
              "    <tr>\n",
              "      <th>Phantasy Star Online 2 Episode 4: Deluxe Package</th>\n",
              "      <td>2017</td>\n",
              "      <td>Role-Playing</td>\n",
              "      <td>0.01</td>\n",
              "    </tr>\n",
              "    <tr>\n",
              "      <th>Imagine: Makeup Artist</th>\n",
              "      <td>2020</td>\n",
              "      <td>Simulation</td>\n",
              "      <td>0.29</td>\n",
              "    </tr>\n",
              "  </tbody>\n",
              "</table>\n",
              "<p>16324 rows × 3 columns</p>\n",
              "</div>"
            ],
            "text/plain": [
              "                                                  Year  ... total_sales\n",
              "Name                                                    ...            \n",
              "Kaboom!                                           1980  ...        1.15\n",
              "Checkers                                          1980  ...        0.23\n",
              "Missile Command                                   1980  ...        2.76\n",
              "Freeway                                           1980  ...        0.34\n",
              "Bridge                                            1980  ...        0.27\n",
              "...                                                ...  ...         ...\n",
              "Valkyria Chronicles                               2016  ...        0.17\n",
              "Phantasy Star Online 2 Episode 4: Deluxe Package  2017  ...        0.03\n",
              "Brothers Conflict: Precious Baby                  2017  ...        0.01\n",
              "Phantasy Star Online 2 Episode 4: Deluxe Package  2017  ...        0.01\n",
              "Imagine: Makeup Artist                            2020  ...        0.29\n",
              "\n",
              "[16324 rows x 3 columns]"
            ]
          },
          "metadata": {
            "tags": []
          },
          "execution_count": 307
        }
      ]
    },
    {
      "cell_type": "code",
      "metadata": {
        "id": "x-dsnNGTGass"
      },
      "source": [
        "z = df_q22.groupby(['Year', 'Genre']).mean()\n",
        "z.mean()#0.903194\n",
        "z1 = z['total_sales'] > 0.7\n",
        "z2 = z[z1]"
      ],
      "execution_count": 405,
      "outputs": []
    },
    {
      "cell_type": "code",
      "metadata": {
        "colab": {
          "base_uri": "https://localhost:8080/",
          "height": 370
        },
        "id": "Jq_tl4VLUII1",
        "outputId": "f9b0ec05-fba9-4236-aa5d-48ee8419e0e7"
      },
      "source": [
        "import seaborn as sns\n",
        "\n",
        "z2.unstack().plot(kind = 'bar', stacked = True).legend(loc='right',  ncol=2, bbox_to_anchor=(0.5, 1))\n",
        "\n"
      ],
      "execution_count": 406,
      "outputs": [
        {
          "output_type": "execute_result",
          "data": {
            "text/plain": [
              "<matplotlib.legend.Legend at 0x7fbd31917410>"
            ]
          },
          "metadata": {
            "tags": []
          },
          "execution_count": 406
        },
        {
          "output_type": "display_data",
          "data": {
            "image/png": "[encoded data removed]",
            "text/plain": [
              "<Figure size 432x288 with 1 Axes>"
            ]
          },
          "metadata": {
            "tags": [],
            "needs_background": "light"
          }
        }
      ]
    },
    {
      "cell_type": "code",
      "metadata": {
        "id": "uP94WY9mlIKK"
      },
      "source": [
        "#시간되면 상관관계 수치화 하기 으ㅏ아아"
      ],
      "execution_count": null,
      "outputs": []
    },
    {
      "cell_type": "code",
      "metadata": {
        "colab": {
          "base_uri": "https://localhost:8080/",
          "height": 1000
        },
        "id": "TIp21Bi9paVS",
        "outputId": "9ee0e6aa-06b7-4918-c27f-2e8e4bca7b03"
      },
      "source": [
        "df['Year'] = df['Year'].astype('int').apply(numeric)\n",
        "df['Year']\n",
        "df = df.sort_values(by=['Year'])\n",
        "df\n",
        "y1 = df['Total_Sales'] > 10\n",
        "df3 = df[y1].groupby(by =['Year','Genre', 'Name']).sum()\n",
        "\n",
        "df4 = pd.DataFrame(df3[['Total_Sales']])\n",
        "df4"
      ],
      "execution_count": 410,
      "outputs": [
        {
          "output_type": "execute_result",
          "data": {
            "text/html": [
              "<div>\n",
              "<style scoped>\n",
              "    .dataframe tbody tr th:only-of-type {\n",
              "        vertical-align: middle;\n",
              "    }\n",
              "\n",
              "    .dataframe tbody tr th {\n",
              "        vertical-align: top;\n",
              "    }\n",
              "\n",
              "    .dataframe thead th {\n",
              "        text-align: right;\n",
              "    }\n",
              "</style>\n",
              "<table border=\"1\" class=\"dataframe\">\n",
              "  <thead>\n",
              "    <tr style=\"text-align: right;\">\n",
              "      <th></th>\n",
              "      <th></th>\n",
              "      <th></th>\n",
              "      <th>Total_Sales</th>\n",
              "    </tr>\n",
              "    <tr>\n",
              "      <th>Year</th>\n",
              "      <th>Genre</th>\n",
              "      <th>Name</th>\n",
              "      <th></th>\n",
              "    </tr>\n",
              "  </thead>\n",
              "  <tbody>\n",
              "    <tr>\n",
              "      <th>1984</th>\n",
              "      <th>Shooter</th>\n",
              "      <th>Duck Hunt</th>\n",
              "      <td>28.31</td>\n",
              "    </tr>\n",
              "    <tr>\n",
              "      <th>1985</th>\n",
              "      <th>Platform</th>\n",
              "      <th>Super Mario Bros.</th>\n",
              "      <td>40.24</td>\n",
              "    </tr>\n",
              "    <tr>\n",
              "      <th>1988</th>\n",
              "      <th>Platform</th>\n",
              "      <th>Super Mario Bros. 3</th>\n",
              "      <td>17.28</td>\n",
              "    </tr>\n",
              "    <tr>\n",
              "      <th rowspan=\"2\" valign=\"top\">1989</th>\n",
              "      <th>Platform</th>\n",
              "      <th>Super Mario Land</th>\n",
              "      <td>18.14</td>\n",
              "    </tr>\n",
              "    <tr>\n",
              "      <th>Puzzle</th>\n",
              "      <th>Tetris</th>\n",
              "      <td>30.26</td>\n",
              "    </tr>\n",
              "    <tr>\n",
              "      <th>1990</th>\n",
              "      <th>Platform</th>\n",
              "      <th>Super Mario World</th>\n",
              "      <td>20.62</td>\n",
              "    </tr>\n",
              "    <tr>\n",
              "      <th>1992</th>\n",
              "      <th>Adventure</th>\n",
              "      <th>Super Mario Land 2: 6 Golden Coins</th>\n",
              "      <td>11.18</td>\n",
              "    </tr>\n",
              "    <tr>\n",
              "      <th>1993</th>\n",
              "      <th>Platform</th>\n",
              "      <th>Super Mario All-Stars</th>\n",
              "      <td>10.55</td>\n",
              "    </tr>\n",
              "    <tr>\n",
              "      <th rowspan=\"2\" valign=\"top\">1996</th>\n",
              "      <th>Platform</th>\n",
              "      <th>Super Mario 64</th>\n",
              "      <td>11.90</td>\n",
              "    </tr>\n",
              "    <tr>\n",
              "      <th>Role-Playing</th>\n",
              "      <th>Pokemon Red/Pokemon Blue</th>\n",
              "      <td>31.38</td>\n",
              "    </tr>\n",
              "    <tr>\n",
              "      <th>1997</th>\n",
              "      <th>Racing</th>\n",
              "      <th>Gran Turismo</th>\n",
              "      <td>10.95</td>\n",
              "    </tr>\n",
              "    <tr>\n",
              "      <th>1998</th>\n",
              "      <th>Role-Playing</th>\n",
              "      <th>Pokémon Yellow: Special Pikachu Edition</th>\n",
              "      <td>14.64</td>\n",
              "    </tr>\n",
              "    <tr>\n",
              "      <th>1999</th>\n",
              "      <th>Role-Playing</th>\n",
              "      <th>Pokemon Gold/Pokemon Silver</th>\n",
              "      <td>23.09</td>\n",
              "    </tr>\n",
              "    <tr>\n",
              "      <th rowspan=\"2\" valign=\"top\">2001</th>\n",
              "      <th>Action</th>\n",
              "      <th>Grand Theft Auto III</th>\n",
              "      <td>13.10</td>\n",
              "    </tr>\n",
              "    <tr>\n",
              "      <th>Racing</th>\n",
              "      <th>Gran Turismo 3: A-Spec</th>\n",
              "      <td>14.97</td>\n",
              "    </tr>\n",
              "    <tr>\n",
              "      <th rowspan=\"2\" valign=\"top\">2002</th>\n",
              "      <th>Action</th>\n",
              "      <th>Grand Theft Auto: Vice City</th>\n",
              "      <td>16.15</td>\n",
              "    </tr>\n",
              "    <tr>\n",
              "      <th>Role-Playing</th>\n",
              "      <th>Pokemon Ruby/Pokemon Sapphire</th>\n",
              "      <td>15.84</td>\n",
              "    </tr>\n",
              "    <tr>\n",
              "      <th rowspan=\"4\" valign=\"top\">2004</th>\n",
              "      <th>Action</th>\n",
              "      <th>Grand Theft Auto: San Andreas</th>\n",
              "      <td>20.81</td>\n",
              "    </tr>\n",
              "    <tr>\n",
              "      <th>Platform</th>\n",
              "      <th>Super Mario 64</th>\n",
              "      <td>10.42</td>\n",
              "    </tr>\n",
              "    <tr>\n",
              "      <th>Racing</th>\n",
              "      <th>Gran Turismo 4</th>\n",
              "      <td>11.65</td>\n",
              "    </tr>\n",
              "    <tr>\n",
              "      <th>Role-Playing</th>\n",
              "      <th>Pokemon FireRed/Pokemon LeafGreen</th>\n",
              "      <td>10.49</td>\n",
              "    </tr>\n",
              "    <tr>\n",
              "      <th rowspan=\"5\" valign=\"top\">2005</th>\n",
              "      <th>Misc</th>\n",
              "      <th>Brain Age: Train Your Brain in Minutes a Day</th>\n",
              "      <td>20.22</td>\n",
              "    </tr>\n",
              "    <tr>\n",
              "      <th>Puzzle</th>\n",
              "      <th>Brain Age 2: More Training in Minutes a Day</th>\n",
              "      <td>15.30</td>\n",
              "    </tr>\n",
              "    <tr>\n",
              "      <th>Racing</th>\n",
              "      <th>Mario Kart DS</th>\n",
              "      <td>23.43</td>\n",
              "    </tr>\n",
              "    <tr>\n",
              "      <th rowspan=\"2\" valign=\"top\">Simulation</th>\n",
              "      <th>Animal Crossing: Wild World</th>\n",
              "      <td>12.28</td>\n",
              "    </tr>\n",
              "    <tr>\n",
              "      <th>Nintendogs</th>\n",
              "      <td>24.75</td>\n",
              "    </tr>\n",
              "    <tr>\n",
              "      <th rowspan=\"4\" valign=\"top\">2006</th>\n",
              "      <th>Misc</th>\n",
              "      <th>Wii Play</th>\n",
              "      <td>29.01</td>\n",
              "    </tr>\n",
              "    <tr>\n",
              "      <th>Platform</th>\n",
              "      <th>New Super Mario Bros.</th>\n",
              "      <td>30.01</td>\n",
              "    </tr>\n",
              "    <tr>\n",
              "      <th>Role-Playing</th>\n",
              "      <th>Pokemon Diamond/Pokemon Pearl</th>\n",
              "      <td>18.35</td>\n",
              "    </tr>\n",
              "    <tr>\n",
              "      <th>Sports</th>\n",
              "      <th>Wii Sports</th>\n",
              "      <td>82.74</td>\n",
              "    </tr>\n",
              "    <tr>\n",
              "      <th rowspan=\"3\" valign=\"top\">2007</th>\n",
              "      <th>Platform</th>\n",
              "      <th>Super Mario Galaxy</th>\n",
              "      <td>11.52</td>\n",
              "    </tr>\n",
              "    <tr>\n",
              "      <th>Shooter</th>\n",
              "      <th>Halo 3</th>\n",
              "      <td>12.14</td>\n",
              "    </tr>\n",
              "    <tr>\n",
              "      <th>Sports</th>\n",
              "      <th>Wii Fit</th>\n",
              "      <td>22.72</td>\n",
              "    </tr>\n",
              "    <tr>\n",
              "      <th rowspan=\"3\" valign=\"top\">2008</th>\n",
              "      <th>Action</th>\n",
              "      <th>Grand Theft Auto IV</th>\n",
              "      <td>21.61</td>\n",
              "    </tr>\n",
              "    <tr>\n",
              "      <th>Fighting</th>\n",
              "      <th>Super Smash Bros. Brawl</th>\n",
              "      <td>13.04</td>\n",
              "    </tr>\n",
              "    <tr>\n",
              "      <th>Racing</th>\n",
              "      <th>Mario Kart Wii</th>\n",
              "      <td>35.83</td>\n",
              "    </tr>\n",
              "    <tr>\n",
              "      <th rowspan=\"5\" valign=\"top\">2009</th>\n",
              "      <th>Action</th>\n",
              "      <th>Pokemon HeartGold/Pokemon SoulSilver</th>\n",
              "      <td>11.90</td>\n",
              "    </tr>\n",
              "    <tr>\n",
              "      <th>Platform</th>\n",
              "      <th>New Super Mario Bros. Wii</th>\n",
              "      <td>28.61</td>\n",
              "    </tr>\n",
              "    <tr>\n",
              "      <th>Shooter</th>\n",
              "      <th>Call of Duty: Modern Warfare 2</th>\n",
              "      <td>24.21</td>\n",
              "    </tr>\n",
              "    <tr>\n",
              "      <th rowspan=\"2\" valign=\"top\">Sports</th>\n",
              "      <th>Wii Fit Plus</th>\n",
              "      <td>22.00</td>\n",
              "    </tr>\n",
              "    <tr>\n",
              "      <th>Wii Sports Resort</th>\n",
              "      <td>33.00</td>\n",
              "    </tr>\n",
              "    <tr>\n",
              "      <th rowspan=\"4\" valign=\"top\">2010</th>\n",
              "      <th>Misc</th>\n",
              "      <th>Kinect Adventures!</th>\n",
              "      <td>21.82</td>\n",
              "    </tr>\n",
              "    <tr>\n",
              "      <th>Racing</th>\n",
              "      <th>Gran Turismo 5</th>\n",
              "      <td>10.77</td>\n",
              "    </tr>\n",
              "    <tr>\n",
              "      <th>Role-Playing</th>\n",
              "      <th>Pokemon Black/Pokemon White</th>\n",
              "      <td>15.32</td>\n",
              "    </tr>\n",
              "    <tr>\n",
              "      <th>Shooter</th>\n",
              "      <th>Call of Duty: Black Ops</th>\n",
              "      <td>27.37</td>\n",
              "    </tr>\n",
              "    <tr>\n",
              "      <th rowspan=\"4\" valign=\"top\">2011</th>\n",
              "      <th>Misc</th>\n",
              "      <th>Just Dance 3</th>\n",
              "      <td>10.27</td>\n",
              "    </tr>\n",
              "    <tr>\n",
              "      <th>Platform</th>\n",
              "      <th>Super Mario 3D Land</th>\n",
              "      <td>10.79</td>\n",
              "    </tr>\n",
              "    <tr>\n",
              "      <th>Racing</th>\n",
              "      <th>Mario Kart 7</th>\n",
              "      <td>12.21</td>\n",
              "    </tr>\n",
              "    <tr>\n",
              "      <th>Shooter</th>\n",
              "      <th>Call of Duty: Modern Warfare 3</th>\n",
              "      <td>28.23</td>\n",
              "    </tr>\n",
              "    <tr>\n",
              "      <th>2012</th>\n",
              "      <th>Shooter</th>\n",
              "      <th>Call of Duty: Black Ops II</th>\n",
              "      <td>27.78</td>\n",
              "    </tr>\n",
              "    <tr>\n",
              "      <th rowspan=\"3\" valign=\"top\">2013</th>\n",
              "      <th>Action</th>\n",
              "      <th>Grand Theft Auto V</th>\n",
              "      <td>37.77</td>\n",
              "    </tr>\n",
              "    <tr>\n",
              "      <th>Shooter</th>\n",
              "      <th>Call of Duty: Ghosts</th>\n",
              "      <td>10.21</td>\n",
              "    </tr>\n",
              "    <tr>\n",
              "      <th>others</th>\n",
              "      <th>Pokemon X/Pokemon Y</th>\n",
              "      <td>14.35</td>\n",
              "    </tr>\n",
              "    <tr>\n",
              "      <th rowspan=\"2\" valign=\"top\">2014</th>\n",
              "      <th>Action</th>\n",
              "      <th>Grand Theft Auto V</th>\n",
              "      <td>11.99</td>\n",
              "    </tr>\n",
              "    <tr>\n",
              "      <th>Role-Playing</th>\n",
              "      <th>Pokemon Omega Ruby/Pokemon Alpha Sapphire</th>\n",
              "      <td>11.33</td>\n",
              "    </tr>\n",
              "    <tr>\n",
              "      <th>2015</th>\n",
              "      <th>Shooter</th>\n",
              "      <th>Call of Duty: Black Ops 3</th>\n",
              "      <td>14.24</td>\n",
              "    </tr>\n",
              "  </tbody>\n",
              "</table>\n",
              "</div>"
            ],
            "text/plain": [
              "                                                                Total_Sales\n",
              "Year Genre        Name                                                     \n",
              "1984 Shooter      Duck Hunt                                           28.31\n",
              "1985 Platform     Super Mario Bros.                                   40.24\n",
              "1988 Platform     Super Mario Bros. 3                                 17.28\n",
              "1989 Platform     Super Mario Land                                    18.14\n",
              "     Puzzle       Tetris                                              30.26\n",
              "1990 Platform     Super Mario World                                   20.62\n",
              "1992 Adventure    Super Mario Land 2: 6 Golden Coins                  11.18\n",
              "1993 Platform     Super Mario All-Stars                               10.55\n",
              "1996 Platform     Super Mario 64                                      11.90\n",
              "     Role-Playing Pokemon Red/Pokemon Blue                            31.38\n",
              "1997 Racing       Gran Turismo                                        10.95\n",
              "1998 Role-Playing Pokémon Yellow: Special Pikachu Edition             14.64\n",
              "1999 Role-Playing Pokemon Gold/Pokemon Silver                         23.09\n",
              "2001 Action       Grand Theft Auto III                                13.10\n",
              "     Racing       Gran Turismo 3: A-Spec                              14.97\n",
              "2002 Action       Grand Theft Auto: Vice City                         16.15\n",
              "     Role-Playing Pokemon Ruby/Pokemon Sapphire                       15.84\n",
              "2004 Action       Grand Theft Auto: San Andreas                       20.81\n",
              "     Platform     Super Mario 64                                      10.42\n",
              "     Racing       Gran Turismo 4                                      11.65\n",
              "     Role-Playing Pokemon FireRed/Pokemon LeafGreen                   10.49\n",
              "2005 Misc         Brain Age: Train Your Brain in Minutes a Day        20.22\n",
              "     Puzzle       Brain Age 2: More Training in Minutes a Day         15.30\n",
              "     Racing       Mario Kart DS                                       23.43\n",
              "     Simulation   Animal Crossing: Wild World                         12.28\n",
              "                  Nintendogs                                          24.75\n",
              "2006 Misc         Wii Play                                            29.01\n",
              "     Platform     New Super Mario Bros.                               30.01\n",
              "     Role-Playing Pokemon Diamond/Pokemon Pearl                       18.35\n",
              "     Sports       Wii Sports                                          82.74\n",
              "2007 Platform     Super Mario Galaxy                                  11.52\n",
              "     Shooter      Halo 3                                              12.14\n",
              "     Sports       Wii Fit                                             22.72\n",
              "2008 Action       Grand Theft Auto IV                                 21.61\n",
              "     Fighting     Super Smash Bros. Brawl                             13.04\n",
              "     Racing       Mario Kart Wii                                      35.83\n",
              "2009 Action       Pokemon HeartGold/Pokemon SoulSilver                11.90\n",
              "     Platform     New Super Mario Bros. Wii                           28.61\n",
              "     Shooter      Call of Duty: Modern Warfare 2                      24.21\n",
              "     Sports       Wii Fit Plus                                        22.00\n",
              "                  Wii Sports Resort                                   33.00\n",
              "2010 Misc         Kinect Adventures!                                  21.82\n",
              "     Racing       Gran Turismo 5                                      10.77\n",
              "     Role-Playing Pokemon Black/Pokemon White                         15.32\n",
              "     Shooter      Call of Duty: Black Ops                             27.37\n",
              "2011 Misc         Just Dance 3                                        10.27\n",
              "     Platform     Super Mario 3D Land                                 10.79\n",
              "     Racing       Mario Kart 7                                        12.21\n",
              "     Shooter      Call of Duty: Modern Warfare 3                      28.23\n",
              "2012 Shooter      Call of Duty: Black Ops II                          27.78\n",
              "2013 Action       Grand Theft Auto V                                  37.77\n",
              "     Shooter      Call of Duty: Ghosts                                10.21\n",
              "     others       Pokemon X/Pokemon Y                                 14.35\n",
              "2014 Action       Grand Theft Auto V                                  11.99\n",
              "     Role-Playing Pokemon Omega Ruby/Pokemon Alpha Sapphire           11.33\n",
              "2015 Shooter      Call of Duty: Black Ops 3                           14.24"
            ]
          },
          "metadata": {
            "tags": []
          },
          "execution_count": 410
        }
      ]
    },
    {
      "cell_type": "code",
      "metadata": {
        "colab": {
          "base_uri": "https://localhost:8080/",
          "height": 529
        },
        "id": "Aik7pAUQtauC",
        "outputId": "9b55f494-8332-4f78-e772-2134fb37f7c9"
      },
      "source": [
        "df4.unstack().plot(kind = 'bar', stacked = True).legend(loc='right',  ncol=2, bbox_to_anchor=(0.5, 1))"
      ],
      "execution_count": 407,
      "outputs": [
        {
          "output_type": "execute_result",
          "data": {
            "text/plain": [
              "<matplotlib.legend.Legend at 0x7fbd2f818910>"
            ]
          },
          "metadata": {
            "tags": []
          },
          "execution_count": 407
        },
        {
          "output_type": "display_data",
          "data": {
            "image/png": "[encoded data removed]",
            "text/plain": [
              "<Figure size 432x288 with 1 Axes>"
            ]
          },
          "metadata": {
            "tags": [],
            "needs_background": "light"
          }
        }
      ]
    },
    {
      "cell_type": "code",
      "metadata": {
        "colab": {
          "base_uri": "https://localhost:8080/",
          "height": 510
        },
        "id": "DnlQ7iwOYEOU",
        "outputId": "e847c1e6-32d7-40de-ee41-de4e490aa9e8"
      },
      "source": [
        "#출고량 높은 게임에대한 분석 및 시각화 프로세스\n",
        "df_q3 = df[['Platform','Year','Genre', 'NA_Sales', 'EU_Sales','JP_Sales','Other_Sales']]\n",
        "\n",
        "df_q3 = df_q3[df.Year != 0]\n",
        "df_q3['Year'] = df_q3['Year'].astype('int').apply(numeric)\n",
        "df_q3['Year']\n",
        "df_q3 = df_q3.sort_values(by=['Year'])\n",
        "df_q3['total_sales'] = df_q3['NA_Sales']+df_q3['EU_Sales']+df_q3['JP_Sales']+df_q3['Other_Sales']\n",
        "\n",
        "df_q33 = df_q3[['Year','Genre','Platform','total_sales']]\n",
        "df_q33['Platform']\n",
        "\n",
        "x = df_q33.groupby(['Year', 'Genre', 'Platform']).sum()\n",
        "x1 = x['total_sales'] > 20\n",
        "x2[x1]\n"
      ],
      "execution_count": 375,
      "outputs": [
        {
          "output_type": "stream",
          "text": [
            "/usr/local/lib/python3.7/dist-packages/ipykernel_launcher.py:15: UserWarning: Boolean Series key will be reindexed to match DataFrame index.\n",
            "  from ipykernel import kernelapp as app\n"
          ],
          "name": "stderr"
        },
        {
          "output_type": "execute_result",
          "data": {
            "text/html": [
              "<div>\n",
              "<style scoped>\n",
              "    .dataframe tbody tr th:only-of-type {\n",
              "        vertical-align: middle;\n",
              "    }\n",
              "\n",
              "    .dataframe tbody tr th {\n",
              "        vertical-align: top;\n",
              "    }\n",
              "\n",
              "    .dataframe thead th {\n",
              "        text-align: right;\n",
              "    }\n",
              "</style>\n",
              "<table border=\"1\" class=\"dataframe\">\n",
              "  <thead>\n",
              "    <tr style=\"text-align: right;\">\n",
              "      <th></th>\n",
              "      <th></th>\n",
              "      <th></th>\n",
              "      <th>total_sales</th>\n",
              "    </tr>\n",
              "    <tr>\n",
              "      <th>Year</th>\n",
              "      <th>Genre</th>\n",
              "      <th>Platform</th>\n",
              "      <th></th>\n",
              "    </tr>\n",
              "  </thead>\n",
              "  <tbody>\n",
              "    <tr>\n",
              "      <th>1984</th>\n",
              "      <th>Shooter</th>\n",
              "      <th>NES</th>\n",
              "      <td>31.10</td>\n",
              "    </tr>\n",
              "    <tr>\n",
              "      <th>1985</th>\n",
              "      <th>Platform</th>\n",
              "      <th>NES</th>\n",
              "      <td>43.17</td>\n",
              "    </tr>\n",
              "    <tr>\n",
              "      <th>1988</th>\n",
              "      <th>Platform</th>\n",
              "      <th>NES</th>\n",
              "      <td>26.30</td>\n",
              "    </tr>\n",
              "    <tr>\n",
              "      <th>1989</th>\n",
              "      <th>Puzzle</th>\n",
              "      <th>GB</th>\n",
              "      <td>37.54</td>\n",
              "    </tr>\n",
              "    <tr>\n",
              "      <th>1990</th>\n",
              "      <th>Platform</th>\n",
              "      <th>SNES</th>\n",
              "      <td>20.62</td>\n",
              "    </tr>\n",
              "    <tr>\n",
              "      <th>...</th>\n",
              "      <th>...</th>\n",
              "      <th>...</th>\n",
              "      <td>...</td>\n",
              "    </tr>\n",
              "    <tr>\n",
              "      <th rowspan=\"2\" valign=\"top\">2014</th>\n",
              "      <th>Role-Playing</th>\n",
              "      <th>3DS</th>\n",
              "      <td>24.38</td>\n",
              "    </tr>\n",
              "    <tr>\n",
              "      <th>Shooter</th>\n",
              "      <th>PS4</th>\n",
              "      <td>21.32</td>\n",
              "    </tr>\n",
              "    <tr>\n",
              "      <th rowspan=\"3\" valign=\"top\">2015</th>\n",
              "      <th>Action</th>\n",
              "      <th>PS4</th>\n",
              "      <td>29.35</td>\n",
              "    </tr>\n",
              "    <tr>\n",
              "      <th rowspan=\"2\" valign=\"top\">Shooter</th>\n",
              "      <th>PS4</th>\n",
              "      <td>32.09</td>\n",
              "    </tr>\n",
              "    <tr>\n",
              "      <th>XOne</th>\n",
              "      <td>23.00</td>\n",
              "    </tr>\n",
              "  </tbody>\n",
              "</table>\n",
              "<p>104 rows × 1 columns</p>\n",
              "</div>"
            ],
            "text/plain": [
              "                            total_sales\n",
              "Year Genre        Platform             \n",
              "1984 Shooter      NES             31.10\n",
              "1985 Platform     NES             43.17\n",
              "1988 Platform     NES             26.30\n",
              "1989 Puzzle       GB              37.54\n",
              "1990 Platform     SNES            20.62\n",
              "...                                 ...\n",
              "2014 Role-Playing 3DS             24.38\n",
              "     Shooter      PS4             21.32\n",
              "2015 Action       PS4             29.35\n",
              "     Shooter      PS4             32.09\n",
              "                  XOne            23.00\n",
              "\n",
              "[104 rows x 1 columns]"
            ]
          },
          "metadata": {
            "tags": []
          },
          "execution_count": 375
        }
      ]
    },
    {
      "cell_type": "code",
      "metadata": {
        "id": "5SqTH4-4mS8-"
      },
      "source": [
        "z"
      ],
      "execution_count": null,
      "outputs": []
    }
  ]
}